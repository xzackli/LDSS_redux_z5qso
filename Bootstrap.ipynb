{
 "cells": [
  {
   "cell_type": "code",
   "execution_count": 1,
   "metadata": {
    "collapsed": true
   },
   "outputs": [],
   "source": [
    "# default first cell - Zack Li\n",
    "%matplotlib inline\n",
    "# fix DPI issues on mac\n",
    "%config InlineBackend.figure_format = 'retina'\n",
    " # autoreload workflow, reload modules every time cell is run\n",
    "%load_ext autoreload\n",
    "%autoreload 2\n",
    "\n",
    "import numpy as np\n",
    "import matplotlib.pyplot as plt\n",
    "default_color_list = plt.rcParams['axes.prop_cycle'].by_key()['color'] # get default colors\n",
    "import matplotlib\n",
    "matplotlib.rcParams['figure.figsize'] = 8,8 # have to fix figure size due to backend\n"
   ]
  },
  {
   "cell_type": "code",
   "execution_count": 2,
   "metadata": {},
   "outputs": [
    {
     "name": "stdout",
     "output_type": "stream",
     "text": [
      "mkdir: cannot create directory ‘bootstrap_samples’: File exists\n",
      "/media/sf_vm-projects/qsoDATA/ut171106_07/bootstrap_samples\n"
     ]
    }
   ],
   "source": [
    "# set up\n",
    "% mkdir bootstrap_samples\n",
    "% cp ccd*_2spec.fits bootstrap_samples/\n",
    "% cp sumspec.par bootstrap_samples/\n",
    "% cd bootstrap_samples"
   ]
  },
  {
   "cell_type": "code",
   "execution_count": 3,
   "metadata": {
    "collapsed": true
   },
   "outputs": [],
   "source": [
    "# generate some random draws\n",
    "N_data = 9\n",
    "N_samples = 150\n",
    "sample_list = [np.random.choice(N_data, N_data) for nn in range(N_samples)]"
   ]
  },
  {
   "cell_type": "code",
   "execution_count": 4,
   "metadata": {
    "collapsed": true
   },
   "outputs": [],
   "source": [
    "file_list = ['ccd0063', 'ccd0064', 'ccd0065', 'ccd0070', 'ccd0071', 'ccd0072', 'ccd0077', 'ccd0078', 'ccd0079']\n",
    "\n",
    "def get_args(samp):\n",
    "    return [ file_list[i] for i in samp ]"
   ]
  },
  {
   "cell_type": "code",
   "execution_count": 6,
   "metadata": {
    "scrolled": true
   },
   "outputs": [
    {
     "name": "stdout",
     "output_type": "stream",
     "text": [
      "149 b'parameter file ./sumspec.par found\\nProcessing slit 0\\r'\r"
     ]
    }
   ],
   "source": [
    "import subprocess \n",
    "from astropy.io import fits\n",
    "import gc\n",
    "\n",
    "image_2D, noise = fits.getdata('ccd0063_2spec.fits', ext=0)\n",
    "mean_data_cube = np.zeros( (len(sample_list), image_2D.shape[0], image_2D.shape[1]) ) \n",
    "\n",
    "for ind, samp in enumerate(sample_list):\n",
    "    # generate a sample using sumspec\n",
    "    \n",
    "#     print(' '.join(['sumspec','-o','bootstrap_2spec'] + get_args(samp)) )\n",
    "    print(ind, subprocess.check_output(['sumspec','-o','bootstrap_2spec'] + get_args(samp)) , end='\\r')\n",
    "    \n",
    "    # read in 2spec\n",
    "    mean_data_cube[ind,:,:], cosmos_noise = fits.getdata('bootstrap_2spec.fits', ext=0)\n",
    "    gc.collect()\n",
    "\n",
    "np.save('meancube6.npy', mean_data_cube)\n",
    "    # sumspec -o bootstrap_2spec ccd0063 ccd0064 ccd0065 ccd0070 ccd0071 ccd0072 ccd0077 ccd0078 ccd0079"
   ]
  },
  {
   "cell_type": "code",
   "execution_count": null,
   "metadata": {
    "collapsed": true
   },
   "outputs": [],
   "source": []
  },
  {
   "cell_type": "code",
   "execution_count": null,
   "metadata": {
    "collapsed": true
   },
   "outputs": [],
   "source": []
  },
  {
   "cell_type": "code",
   "execution_count": null,
   "metadata": {
    "collapsed": true
   },
   "outputs": [],
   "source": []
  }
 ],
 "metadata": {
  "kernelspec": {
   "display_name": "Python 2",
   "language": "python",
   "name": "python2"
  },
  "language_info": {
   "codemirror_mode": {
    "name": "ipython",
    "version": 2
   },
   "file_extension": ".py",
   "mimetype": "text/x-python",
   "name": "python",
   "nbconvert_exporter": "python",
   "pygments_lexer": "ipython2",
   "version": "2.7.14"
  }
 },
 "nbformat": 4,
 "nbformat_minor": 2
}
